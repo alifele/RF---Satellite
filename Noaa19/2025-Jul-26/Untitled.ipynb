{
 "cells": [
  {
   "cell_type": "code",
   "execution_count": 4,
   "id": "1d5452bb-c254-43ab-a077-00d670dbcd69",
   "metadata": {},
   "outputs": [
    {
     "data": {
      "text/plain": [
       "{'original': 'denoised_original.png',\n",
       " 'median': 'denoised_median.png',\n",
       " 'morph_close': 'denoised_morph_close.png',\n",
       " 'horizontal_median': 'denoised_horizontal_median.png',\n",
       " 'bilateral': 'denoised_bilateral.png'}"
      ]
     },
     "execution_count": 4,
     "metadata": {},
     "output_type": "execute_result"
    }
   ],
   "source": [
    "import matplotlib.pyplot as plt\n",
    "from skimage import io, util\n",
    "import cv2\n",
    "import numpy as np\n",
    "from scipy.ndimage import median_filter\n",
    "\n",
    "# Load the uploaded image (color)\n",
    "image_path = \"sattelite.png\"\n",
    "color_image = io.imread(image_path)\n",
    "\n",
    "# Convert to grayscale for processing\n",
    "gray_image = util.img_as_ubyte(np.mean(color_image, axis=2) / 255.0)\n",
    "\n",
    "\n",
    "# Method 1: Median filter (scipy)\n",
    "median_denoised = median_filter(gray_image, size=3)\n",
    "\n",
    "# Method 2: Morphological closing (OpenCV)\n",
    "kernel = np.ones((3, 3), np.uint8)\n",
    "morph_close = cv2.morphologyEx(gray_image, cv2.MORPH_CLOSE, kernel)\n",
    "\n",
    "# Method 3: Horizontal median filter\n",
    "horizontal_median = median_filter(gray_image, size=(1, 5))\n",
    "\n",
    "# Method 4: Bilateral filter\n",
    "bilateral = cv2.bilateralFilter(gray_image, d=9, sigmaColor=75, sigmaSpace=75)\n",
    "\n",
    "# Stack grayscale back into color (naive approach using original color as reference)\n",
    "def reapply_color(gray, reference_color):\n",
    "    ratio = gray / np.maximum(np.mean(reference_color, axis=2), 1)\n",
    "    recolored = np.clip(reference_color * ratio[..., None], 0, 255).astype(np.uint8)\n",
    "    return recolored\n",
    "\n",
    "# Generate recolored versions\n",
    "results = {\n",
    "    \"original\": color_image,\n",
    "    \"median\": reapply_color(median_denoised, color_image),\n",
    "    \"morph_close\": reapply_color(morph_close, color_image),\n",
    "    \"horizontal_median\": reapply_color(horizontal_median, color_image),\n",
    "    \"bilateral\": reapply_color(bilateral, color_image),\n",
    "}\n",
    "\n",
    "# Save each result\n",
    "output_paths = {}\n",
    "for name, img in results.items():\n",
    "    out_path = f\"denoised_{name}.png\"\n",
    "    io.imsave(out_path, img)\n",
    "    output_paths[name] = out_path\n",
    "\n",
    "output_paths\n"
   ]
  },
  {
   "cell_type": "code",
   "execution_count": null,
   "id": "8925faeb-5f4f-4a88-91c3-a5aafa24e79b",
   "metadata": {},
   "outputs": [],
   "source": []
  }
 ],
 "metadata": {
  "kernelspec": {
   "display_name": "Python 3 (ipykernel)",
   "language": "python",
   "name": "python3"
  },
  "language_info": {
   "codemirror_mode": {
    "name": "ipython",
    "version": 3
   },
   "file_extension": ".py",
   "mimetype": "text/x-python",
   "name": "python",
   "nbconvert_exporter": "python",
   "pygments_lexer": "ipython3",
   "version": "3.10.12"
  }
 },
 "nbformat": 4,
 "nbformat_minor": 5
}
